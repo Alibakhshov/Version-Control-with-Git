{
 "cells": [
  {
   "cell_type": "markdown",
   "metadata": {},
   "source": [
    "<h4><b>Move To Correct Project</b></h4>\n",
    "<p>If you've been following along, you should have two different directories with Git projects on your computer:</p>\n",
    "\n",
    "<ul>\n",
    "    <li>git-project - an empty directory that you converted to a Git repository using <b>git init</b></li>\n",
    "    <li>course-git-blog-project - an existing blog project you retrieved using <b>git clone</b></li>\n",
    "</ul>\n",
    "\n",
    "<p>To avoid any confusion with existing commits, we'll be making our commits to the new-git-project Git repository.\n",
    "\n",
    "On the Terminal, make sure you <b>cd</b> into the <b>git-project</b> directory. If you don't have a <b>git-project</b> directory, create it now. Once you're inside the directory, run the <b>git init</b> command. If you've already run <b>git init</b> before it's ok – running git init multiple times doesn't cause any problems since it just re-initializes the Git directory.</p>"
   ]
  },
  {
   "cell_type": "code",
   "execution_count": 2,
   "metadata": {},
   "outputs": [
    {
     "name": "stdout",
     "output_type": "stream",
     "text": [
      "The Terminal application in the git-project directory.\n"
     ]
    },
    {
     "data": {
      "image/png": "[encoded data removed]",
      "text/plain": [
       "<IPython.core.display.Image object>"
      ]
     },
     "execution_count": 2,
     "metadata": {},
     "output_type": "execute_result"
    }
   ],
   "source": [
    "print(\"The Terminal application in the git-project directory. Your Terminal should look like this:\")\n",
    "from IPython.display import Image\n",
    "Image(filename='Images/main page.png') \n"
   ]
  },
  {
   "cell_type": "markdown",
   "metadata": {},
   "source": [
    "<h4><b>Status Status Status</b><h4>\n",
    "\n",
    "<p>I've said it a number of times already, but the <b>git status</b> command will be extremely helpful in this lesson. You should have it as your goal to run the <b>git status</b> command both before and after any other Git command.</p>\n"
   ]
  }
 ],
 "metadata": {
  "interpreter": {
   "hash": "9182a5b75dc6c9d822324e004c5a168cd902f1d4320a1bf89d17c5a7d9f94b60"
  },
  "kernelspec": {
   "display_name": "Python 3.10.4 64-bit",
   "language": "python",
   "name": "python3"
  },
  "language_info": {
   "codemirror_mode": {
    "name": "ipython",
    "version": 3
   },
   "file_extension": ".py",
   "mimetype": "text/x-python",
   "name": "python",
   "nbconvert_exporter": "python",
   "pygments_lexer": "ipython3",
   "version": "3.9.7"
  },
  "orig_nbformat": 4
 },
 "nbformat": 4,
 "nbformat_minor": 2
}
