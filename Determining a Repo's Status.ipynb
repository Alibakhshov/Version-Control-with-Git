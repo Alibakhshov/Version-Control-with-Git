{
 "cells": [
  {
   "cell_type": "markdown",
   "metadata": {},
   "source": [
    "<h4><b>Determine A Repo's Status</b></h4>\n",
    "<p>The <b>git status</b> is our key to the mind of Git. It will tell us what Git is thinking and the state of our repository as Git sees it. When you're first starting out, you should be using the <b>git status</b> command all of the time! Seriously. You should get into the habit of running it after any other command. This will help you learn how Git works and it'll help you from making (possibly) incorrect assumptions about the state of your files/repository.</p>"
   ]
  },
  {
   "cell_type": "markdown",
   "metadata": {},
   "source": [
    "<h4><b>Git Status Output</b></h4>\n",
    "<p>The <b>git status</b> command will display a lot of information depending on the state of your files, the working directory, and the repository. You don't need to worry too much about these, though...just run <b>git status</b> and it will display the information you need to know.</p>"
   ]
  },
  {
   "cell_type": "markdown",
   "metadata": {},
   "source": [
    "<h4><b>Git Status </b></h4>\n",
    "<p>The <b>git status</b> command will display the current status of the repository</p>\n",
    "\n",
    "<p>I can't stress enough how important it is to use this command all the time as you're first learning Git. This command will:</p>\n",
    "\n",
    "<ul>\n",
    "    <li>tell us about new files that have been created in the Working Directory that Git hasn't started tracking, yet</li>\n",
    "    <li>files that Git is tracking that have been modified</li>\n",
    "    <li>a whole bunch of other things that we'll be learning about throughout the rest of the course ;-)</li>\n",
    "</ul>"
   ]
  },
  {
   "cell_type": "markdown",
   "metadata": {},
   "source": [
    "<h4><b>Helpful Links </b></h4>\n",
    "<ul>\n",
    "    <li><a href=\"https://git-scm.com/book/en/v2/Git-Basics-Recording-Changes-to-the-Repository#Checking-the-Status-of-Your-Files\">Checking the Status of Your Files</a></li>\n",
    "    <li><a href=\"https://git-scm.com/docs/git-status\">Git status docs</a></li>\n",
    "    <li><a href=\"https://www.atlassian.com/git/tutorials/inspecting-a-repository\">Git status Tutorial</a></li>\n",
    "</ul>"
   ]
  }
 ],
 "metadata": {
  "language_info": {
   "name": "python"
  },
  "orig_nbformat": 4
 },
 "nbformat": 4,
 "nbformat_minor": 2
}
