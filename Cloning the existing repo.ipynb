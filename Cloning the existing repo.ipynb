{
 "cells": [
  {
   "cell_type": "markdown",
   "metadata": {},
   "source": [
    "<h4><strong>Why Clone?</strong></h4>\n",
    "<p>First, what is cloning?</p>\n",
    "<i><b>&#160;&#160;&#160;&#160;&#160;&#160;&#160;&#160;&#160;&#160;&#160;&#160;&#160;&#160;&#160;&#160;&#160;&#160;&#160;&#160;to make an identical copy</b></i>\n",
    "<p>What's the value of creating an identical copy of something, and how does this relate to Git and version control?\n",
    "\n",
    "Why would you want to create an identical copy? Well, when I work on a new web project, I do the same set of steps:</p>\n",
    "\n",
    "<ul>\n",
    "    <li>Create an <b>index.html</b> file</li>\n",
    "    <li>Create a <b>js</b> directory</li>\n",
    "    <li>Create a <b>css</b> directory</li>\n",
    "    <li>Create an <b>img</b> directory</li>\n",
    "    <li>Create <b>app.js</b> in the js directory</li>\n",
    "    <li>Add starter HTML code in <b>index.html</b></li>\n",
    "    <li>Add configuration files for linting (validating code syntax)</li>\n",
    "    <ul>\n",
    "        <li><a href = \"https://htmlhint.com/\">HTML linting</a></li>\n",
    "        <li><a href = \"https://stylelint.io/\">CSS linting</a></li>\n",
    "        <li><a href = \"https://eslint.org/\">JavaScript Linting</a></li>\n",
    "    </ul>\n",
    "    <li><a href = \"https://editorconfig.org/\">Configure my code editor</a></li>\n",
    "\n",
    "</ul>"
   ]
  },
  {
   "cell_type": "markdown",
   "metadata": {},
   "source": [
    "<p></p>"
   ]
  }
 ],
 "metadata": {
  "language_info": {
   "name": "python"
  },
  "orig_nbformat": 4
 },
 "nbformat": 4,
 "nbformat_minor": 2
}
