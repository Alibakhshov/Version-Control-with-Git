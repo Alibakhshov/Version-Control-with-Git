{
 "cells": [
  {
   "cell_type": "markdown",
   "metadata": {},
   "source": [
    "<h4><strong>Why Clone?</strong></h4>\n",
    "<p>First, what is cloning?</p>\n",
    "<i><b>&#160;&#160;&#160;&#160;&#160;&#160;&#160;&#160;&#160;&#160;&#160;&#160;&#160;&#160;&#160;&#160;&#160;&#160;&#160;&#160;to make an identical copy</b></i>\n",
    "<p>What's the value of creating an identical copy of something, and how does this relate to Git and version control?\n",
    "\n",
    "Why would you want to create an identical copy? Well, when I work on a new web project, I do the same set of steps:</p>\n",
    "\n",
    "<ul>\n",
    "    <li>Create an <b>index.html</b> file</li>\n",
    "    <li>Create a <b>js</b> directory</li>\n",
    "    <li>Create a <b>css</b> directory</li>\n",
    "    <li>Create an <b>img</b> directory</li>\n",
    "    <li>Create <b>app.js</b> in the js directory</li>\n",
    "    <li>Add starter HTML code in <b>index.html</b></li>\n",
    "    <li>Add configuration files for linting (validating code syntax)</li>\n",
    "    <ul>\n",
    "        <li><a href = \"https://htmlhint.com/\">HTML linting</a></li>\n",
    "        <li><a href = \"https://stylelint.io/\">CSS linting</a></li>\n",
    "        <li><a href = \"https://eslint.org/\">JavaScript Linting</a></li>\n",
    "    </ul>\n",
    "    <li><a href = \"https://editorconfig.org/\">Configure my code editor</a></li>\n",
    "\n",
    "</ul>"
   ]
  },
  {
   "cell_type": "markdown",
   "metadata": {},
   "source": [
    "<p>...and I do this every time I create a new project!...which is a lot of effort I'm putting in for each new project. I didn't want to keep doing these same steps over and over, so I did all of the steps listed above one last time and created a starter project for myself. Now when I create a new project, I just make an identical copy of that starter project!\n",
    "\n",
    "The way that cloning relates to Git is that the command we'll be running on the terminal is <b>git clone</b>. You pass a path (usually a URL) of the Git repository you want to clone to the <b>git clone</b> command.\n",
    "\n",
    "Wanna try cloning an existing project? Let's see how Git's <b>clone</b> command works!</p>"
   ]
  },
  {
   "cell_type": "markdown",
   "metadata": {},
   "source": [
    "<h4><b>Verify Terminal Location</b></h4>\n",
    "<i><b>TIP:</b> Now before you clone anything, make sure you are located in the correct directory on the command line. Cloning a project creates a new directory and places the cloned Git repository in it. The problem is that you can't have nested Git repositories. So make sure the terminal's current working directory isn't located in a Git repository. If your current working directory is not in your shell's prompt, type <b>pwd</b> to print the working directory</i>"
   ]
  },
  {
   "cell_type": "markdown",
   "metadata": {},
   "source": [
    "<h4><b>Git clone</b></h4>\n",
    "<p>The <b>git clone</b> command is used to create an identical copy of an existing repository.</p>\n",
    "\n",
    "<b>git clone path-to-repository-to-clone</b>\n",
    "\n",
    "<i>This command:</i>\n",
    "\n",
    "<ul>\n",
    "    <li>takes the path to an existing repository</li>  \n",
    "    <li>by default will create a directory with the same name as the repository that's being cloned</li>\n",
    "    <li>can be given a second argument that will be used as the name of the directory</li>\n",
    "    <li>will create the new repository inside of the current working directory</li>\n",
    "</ul>"
   ]
  },
  {
   "cell_type": "markdown",
   "metadata": {},
   "source": [
    "<h4><b>Helpful Links</b></h4>\n",
    "<ul>\n",
    "    <li><a href = \"https://git-scm.com/book/en/v2/Git-Basics-Getting-a-Git-Repository#Cloning-an-Existing-Repository\">Cloning an Existing Repository</a></li>\n",
    "    <li><a href = \"https://git-scm.com/docs/git-clone\">Git clone docs</a></li>\n",
    "    <li><a href = \"https://www.atlassian.com/git/tutorials/setting-up-a-repository\">Git clone Tutorial</a></li>\n",
    "</ul>\n"
   ]
  }
 ],
 "metadata": {
  "interpreter": {
   "hash": "9182a5b75dc6c9d822324e004c5a168cd902f1d4320a1bf89d17c5a7d9f94b60"
  },
  "kernelspec": {
   "display_name": "Python 3.10.4 64-bit",
   "language": "python",
   "name": "python3"
  },
  "language_info": {
   "name": "python",
   "version": "3.10.4"
  },
  "orig_nbformat": 4
 },
 "nbformat": 4,
 "nbformat_minor": 2
}
