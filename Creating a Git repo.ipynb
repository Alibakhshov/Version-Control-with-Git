{
 "cells": [
  {
   "cell_type": "markdown",
   "metadata": {},
   "source": [
    "<h4><strong>Creating a Repo from Scratch</strong></h4>\n",
    "\n",
    "<p>To create a new repository with Git, we'll use the <b>git init</b> command. The <b>init</b> subcommand is short for \"initialize\", which is helpful because it's the command that will do all of the initial setup of a repository</p>"
   ]
  },
  {
   "cell_type": "markdown",
   "metadata": {},
   "source": [
    "<h4><strong>Commands that you need to know:</strong></h4>\n",
    "<ul>\n",
    "    <li> <b>ls</b> - used to list files and directories </li>\n",
    "    <li> <b>mkdir</b> - used to create a new directory </li>\n",
    "    <li> <b>cd</b> - used to change directories </li>\n",
    "    <li> <b>rm</b> - used to remove files and directories </li>\n",
    "</ul>\n"
   ]
  }
 ],
 "metadata": {
  "language_info": {
   "name": "python"
  },
  "orig_nbformat": 4
 },
 "nbformat": 4,
 "nbformat_minor": 2
}
