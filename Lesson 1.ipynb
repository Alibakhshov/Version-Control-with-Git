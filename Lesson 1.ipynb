{
 "cells": [
  {
   "cell_type": "markdown",
   "metadata": {},
   "source": [
    "<h3><strong> What is Version Control System (VCS)?</strong></h3>"
   ]
  },
  {
   "cell_type": "markdown",
   "metadata": {},
   "source": [
    "<h5>&#160;&#160;&#160;&#160;Version control is a system that records changes to a file or set of files over time so that you can recall specific versions later. In simple way, it is just a software that assist the developers to manage the various versions of code.</h5>"
   ]
  },
  {
   "cell_type": "markdown",
   "metadata": {},
   "source": [
    "<h5><strong> Three of the most popular VCS are:</strong></h5>\n",
    "<ul>\n",
    "    <li><a href=\"https://git-scm.com/\">Git</a></li>\n",
    "    <li><a href=\"https://subversion.apache.org/\">Subversion</a></li>\n",
    "    <li><a href=\"https://www.mercurial-scm.org/\">Mercurial</a></li>\n",
    "</ul>"
   ]
  },
  {
   "cell_type": "markdown",
   "metadata": {},
   "source": [
    "<i>There are two main types of version control system models:</i>\n",
    "<ol>\n",
    "    <li>the <b>centralized model</b> - all users connect to a central, master repository</li>\n",
    "    <li>the <b>distributed model</b> - each user has the entire repository on their computer</li>\n",
    "</ol>"
   ]
  },
  {
   "cell_type": "markdown",
   "metadata": {},
   "source": [
    "<h5><strong>Version Control System / Source Code Manager</strong></h5>\n",
    "<p>A <b>version control system (VCS)</b> is a tool that manages different versions of source code. A <b>source code manager (SCM)</b> is another name for a version control system. Git is an SCM (and therefore a VCS!).</p>"
   ]
  },
  {
   "cell_type": "markdown",
   "metadata": {},
   "source": [
    "<h3><strong> What is Git?</strong></h3>"
   ]
  },
  {
   "cell_type": "markdown",
   "metadata": {},
   "source": [
    "<p>Git is a DevOps tool used for source code management. It is a free and open-source version control system used to handle small to very large projects efficiently. Git is used to tracking changes in the source code, enabling multiple developers to work together on non-linear development.. As you learn Git, try to clear your mind of the things you may know about other VCSs, such as CVS, Subversion or Perforce — doing so will help you avoid subtle confusion when using the tool. Even though Git’s user interface is fairly similar to these other VCSs, Git stores and thinks about information in a very different way, and understanding these differences will help you avoid becoming confused while using it.</p>"
   ]
  },
  {
   "cell_type": "markdown",
   "metadata": {},
   "source": [
    "<h3><strong> Terminology</strong></h3>"
   ]
  },
  {
   "cell_type": "markdown",
   "metadata": {},
   "source": [
    "<i>Terminologies that you should know before starting to work with Git</i>"
   ]
  },
  {
   "cell_type": "markdown",
   "metadata": {},
   "source": [
    "<ul>\n",
    "    <li><strong><a href =\"https://www.javatpoint.com/git-branch\">Branch</a></strong></li>\n",
    "    <p>A branch is a version of the repository that diverges from the main working project. It is an essential feature available in most modern version control systems. A Git project can have more than one branch. We can perform many operations on Git branch-like rename, list, delete, etc.</p>\n",
    "    <li><strong><a href = \"https://www.javatpoint.com/git-checkout\">Checkout</a></strong></li>\n",
    "    <p>In Git, the term checkout is used for the act of switching between different versions of a target entity. The <b>git checkout</b> command is used to switch between branches in a repository.<p>\n",
    "    <li><strong><a href = \"https://www.javatpoint.com/git-cherry-pick\">Cherry-Picking</a></strong></li>\n",
    "    <p>Cherry-picking in Git is meant to apply some commit from one branch into another branch. In case you made a mistake and committed a change into the wrong branch, but do not want to merge the whole branch. You can revert the commit and cherry-pick it on another branch.<p>\n",
    "    <li><strong><a href = \"https://www.javatpoint.com/git-clone\">Clone</a></strong></li>\n",
    "    <p>The <b>git clone</b> is a Git command-line utility. It is used to make a copy of the target repository or clone it. If I want a local copy of my repository from GitHub, this tool allows creating a local copy of that repository on your local directory from the repository URL.<p>\n",
    "    <li><strong><a href = \"https://www.javatpoint.com/git-fetch\">Fetch</a></strong></li>\n",
    "    <p>It is used to fetch branches and tags from one or more other repositories, along with the objects necessary to complete their histories. It updates the remote-tracking branches.<p>\n",
    "    <li><strong><a href = \"https://www.javatpoint.com/git-fetch\">Head</a></strong></li>\n",
    "    <p>HEAD is the representation of the last commit in the current checkout branch. We can think of the head like a current branch. When you switch branches with git checkout, the HEAD revision changes, and points the new branch.<p>\n",
    "    <li><strong><a href = \"https://www.javatpoint.com/git-index\">Index</a></strong></li>\n",
    "    <p>The Git index is a staging area between the working directory and repository. It is used as the index to build up a set of changes that you want to commit together<p>\n",
    "    <li><strong><a href = \"https://www.javatpoint.com/git-master\">Master</a></strong></li>\n",
    "    <p>Master is a naming convention for Git branch. It's a default branch of Git. After cloning a project from a remote server, the resulting local repository contains only a single local branch. This branch is called a \"master\" branch. It means that \"master\" is a repository's \"default\" branch.<p>\n",
    "    <li><strong><a href = \"https://www.javatpoint.com/git-merge\">Merge</a></strong></li>\n",
    "    <p>Merging is a process to put a forked history back together. The git merge command facilitates you to take the data created by git branch and integrate them into a single branch.<p>\n",
    "    <li><strong><a href = \"https://www.javatpoint.com/git-origin\">Origin</a></strong></li>\n",
    "    <p>In Git, \"origin\" is a reference to the remote repository from a project was initially cloned. More precisely, it is used instead of that original repository URL to make referencing much easier.<p>\n",
    "    <li><strong><a href = \"https://www.javatpoint.com/git-pull\">Pull/Pull Request</a></strong></li>\n",
    "    <p>The term Pull is used to receive data from GitHub. It fetches and merges changes on the remote server to your working directory. The <b>git pull</b> command is used to make a Git pull. Pull requests are a process for a developer to notify team members that they have completed a feature. Once their feature branch is ready, the developer files a pull request via their remote server account. Pull request announces all the team members that they need to review the code and merge it into the master branch.<p>\n",
    "    <li><strong><a href = \"https://www.javatpoint.com/git-push\">Push</a></strong></li>\n",
    "    <p>The push term refers to upload local repository content to a remote repository. Pushing is an act of transfer commits from your local repository to a remote repository. Pushing is capable of overwriting changes; caution should be taken when pushing.<p>\n",
    "    <li><strong><a href = \"https://www.javatpoint.com/git-rebase\">Rebase</a></strong></li>\n",
    "    <p>In Git, the term rebase is referred to as the process of moving or combining a sequence of commits to a new base commit. Rebasing is very beneficial and visualized the process in the environment of a feature branching workflow. From a content perception, rebasing is a technique of changing the base of your branch from one commit to another<p>\n",
    "    <li><strong><a href = \"https://www.javatpoint.com/git-remote\">Remote</a></strong></li>\n",
    "    <p>In Git, the term remote is concerned with the remote repository. It is a shared repository that all team members use to exchange their changes. A remote repository is stored on a code hosting service like an internal server, GitHub, Subversion and more. In case of a local repository, a remote typically does not provide a file tree of the project's current state, as an alternative it only consists of the .git versioning data.<p>\n",
    "    <li><strong><a href = \"https://www.javatpoint.com/git-repository\">Repository</a></strong></li>\n",
    "    <p>In Git, Repository is like a data structure used by VCS to store metadata for a set of files and directories. It contains the collection of the file as well as the history of changes made to those files. Repositories in Git is considered as your project folder. A repository has all the project-related data. Distinct projects have distinct repositories.<p>\n",
    "    <li><strong><a href = \"https://www.javatpoint.com/git-stashing\">Stashing</a></strong></li>\n",
    "    <p>Sometimes you want to switch the branches, but you are working on an incomplete part of your current project. You don't want to make a commit of half-done work. Git stashing allows you to do so. The <b>git stash</b> command enables you to switch branch without committing the current branch.<p>\n",
    "    <li><strong><a href = \"https://www.javatpoint.com/git-tag\">Tag</a></strong></li>\n",
    "    <p>Tags make a point as a specific point in Git history. It is used to mark a commit stage as important. We can tag a commit for future reference. Primarily, it is used to mark a projects initial point like v1.1. There are two types of tags.\n",
    "\n",
    "<ol>\n",
    "    <li>Light-weighted tag</li>\n",
    "    <li>Annotated tag</li>\n",
    "</ol><p>\n",
    "    <li><strong><a href = \"https://www.javatpoint.com/git-upstream-and-downstream\">Upstream And Downstream</a></strong></li>\n",
    "    <p>The term upstream and downstream is a reference of the repository. Generally, upstream is where you cloned the repository from (the origin) and downstream is any project that integrates your work with other works. However, these terms are not restricted to Git repositories.<p>\n",
    "    <li><strong><a href = \"https://www.javatpoint.com/git-revert\">Git Revert</a></strong></li>\n",
    "    <p>In Git, the term revert is used to revert some commit. To revert a commit, <b>git revert</b> command is used. It is an undo type command. However, it is not a traditional undo alternative.<p>\n",
    "    <li><strong><a href = \"https://www.javatpoint.com/git-reset\">Git Reset</a></strong></li>\n",
    "    <p>In Git, the term reset stands for undoing changes. The git reset command is used to reset the changes. The <b>git reset</b> command has three core forms of invocation. These forms are as follows.\n",
    "\n",
    "<ol>\n",
    "    <li>Soft</li>\n",
    "    <li>Mixed</li>\n",
    "    <li>Hard</li>\n",
    "</ol><p>\n",
    "    <li><strong><a href = \"https://www.javatpoint.com/git-ignore\">Git Ignore</a></strong></li>\n",
    "    <p>In Git, the term ignore used to specify intentionally untracked files that Git should ignore. It doesn't affect the Files that already tracked by Git.<p>\n",
    "    <li><strong><a href = \"https://www.javatpoint.com/git-diff\">Git Diff</a></strong></li>\n",
    "    <p>Git diff is a command-line utility. It's a multiuse Git command. When it is executed, it runs a diff function on Git data sources. These data sources can be files, branches, commits, and more. It is used to show changes between commits, commit, and working tree, etc.<p>\n",
    "    <li><strong><a href = \"https://www.javatpoint.com/git-cheat-sheet\">Git Cheat Sheet</a></strong></li>\n",
    "    <p>A Git cheat sheet is a summary of Git quick references. It contains basic Git commands with quick installation. A cheat sheet or crib sheet is a brief set of notes used for quick reference. Cheat sheets are so named because the people may use it without no prior knowledge<p>\n",
    "    <li><strong><a href = \"https://www.javatpoint.com/git-flow\">Git Flow</a></strong></li>\n",
    "    <p>GitFlow is a branching model for Git, developed by Vincent Driessen. It is very well organized to collaborate and scale the development team. Git flow is a collection of Git commands. It accomplishes many repository operations with just single commands.<p>\n",
    "    <li><strong><a href = \"https://www.javatpoint.com/git-squash\">Git Squash</a></strong></li>\n",
    "    <p>In Git, the term squash is used to squash previous commits into one. Git squash is an excellent technique to group-specific changes before forwarding them to others. You can merge several commits into a single commit with the powerful interactive rebase command.<p>\n",
    "    <li><strong><a href = \"https://www.javatpoint.com/git-rm\">Git Rm</a></strong></li>\n",
    "    <p>In Git, the term rm stands for remove. It is used to remove individual files or a collection of files. The key function of git rm is to remove tracked files from the Git index. Additionally, it can be used to remove files from both the working directory and staging index.<p>\n",
    "    <li><strong><a href = \"https://www.javatpoint.com/git-fork\">Git Fork</a></strong></li>\n",
    "    <p> A fork is a rough copy of a repository. Forking a repository allows you to freely test and debug with changes without affecting the original project.\n",
    "\n",
    "Great use of using forks to propose changes for bug fixes. To resolve an issue for a bug that you found, you can:\n",
    "\n",
    "<ol>\n",
    "    <li>Fork the repository.</li>\n",
    "    <li>Make the fix.</li>\n",
    "    <li>Forward a pull request to the project owner.</li>\n",
    "</ol><p>\n",
    "    \n",
    "\n",
    "</ul>"
   ]
  }
 ],
 "metadata": {
  "language_info": {
   "name": "python"
  },
  "orig_nbformat": 4
 },
 "nbformat": 4,
 "nbformat_minor": 2
}
