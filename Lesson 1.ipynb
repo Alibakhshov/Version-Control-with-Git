{
 "cells": [
  {
   "cell_type": "markdown",
   "metadata": {},
   "source": [
    "<h3><strong> What is Version Control System (VCS)?</strong></h3>"
   ]
  },
  {
   "cell_type": "markdown",
   "metadata": {},
   "source": [
    "<h5>&#160;&#160;&#160;&#160;Version control is a system that records changes to a file or set of files over time so that you can recall specific versions later. In simple way, it is just a software that assist the developers to manage the various versions of code.</h5>"
   ]
  },
  {
   "cell_type": "markdown",
   "metadata": {},
   "source": [
    "<h5><strong> Three of the most popular VCS are:</strong></h5>\n",
    "<ul>\n",
    "    <li><a href=\"https://git-scm.com/\">Git</a></li>\n",
    "    <li><a href=\"https://subversion.apache.org/\">Subversion</a></li>\n",
    "    <li><a href=\"https://www.mercurial-scm.org/\">Mercurial</a></li>\n",
    "</ul>"
   ]
  },
  {
   "cell_type": "markdown",
   "metadata": {},
   "source": [
    "<i>There are two main types of version control system models:</i>\n",
    "<ol>\n",
    "    <li>the <b>centralized model</b> - all users connect to a central, master repository</li>\n",
    "    <li>the <b>distributed model</b> - each user has the entire repository on their computer</li>\n",
    "</ol>"
   ]
  },
  {
   "cell_type": "markdown",
   "metadata": {},
   "source": []
  }
 ],
 "metadata": {
  "language_info": {
   "name": "python"
  },
  "orig_nbformat": 4
 },
 "nbformat": 4,
 "nbformat_minor": 2
}
