{
 "cells": [
  {
   "cell_type": "markdown",
   "metadata": {},
   "source": [
    "<b>Git Tag Command</b>\n",
    "<p>The command we'll be using to interact with the repository's tags is the git tag command</p>\n",
    "\n",
    "<b> &#160;&#160;&#160;&#160;&#160;&#160;&#160;&#160;&#160;&#160;&#160;&#160;&#160;&#160;&#160;&#160;&#160;&#160;&#160;&#160;&#160;&#160;&#160;&#160;&#160;&#160;&#160;&#160;&#160;&#160;&#160;&#160;&#160;&#160;&#160;&#160;&#160;&#160;&#160;&#160;&#160;&#160;&#160;&#160;&#160;&#160;&#160;&#160;&#160;&#160;&#160;&#160;&#160;&#160;&#160;&#160; git tag -a v1</b>\n",
    "\n",
    "<p>This will open your code editor and wait for you to supply a message for the tag. How about the message \"Ready for content\"?</p>"
   ]
  },
  {
   "cell_type": "code",
   "execution_count": null,
   "metadata": {},
   "outputs": [],
   "source": [
    "print(\"Code editor waiting for the tag's message to be supplied.\")\n",
    "from IPython.display import Image\n",
    "Image(filename='Images/git tag.png') "
   ]
  },
  {
   "cell_type": "markdown",
   "metadata": {},
   "source": [
    "<p><b>CAREFUL:</b> In the command above <b>(git tag -a v1.0)</b> the <b>-a</b> flag is used. This flag tells Git to create an annotated flag. If you don't provide the flag (i.e. <b>git tag v1.0</b>) then it'll create what's called a lightweight tag.</p>\n",
    "<p>Annotated tags are recommended because they include a lot of extra information such as:</p>\n",
    "<ul>\n",
    "    <li>the person who made the tag</li>\n",
    "    <li>the date the tag was made</li>\n",
    "    <li>a message for the tag</li>\n",
    "</ul>\n",
    "<p>Because of this, you should always use annotated tags.</p>"
   ]
  },
  {
   "cell_type": "markdown",
   "metadata": {},
   "source": [
    "<b>Verify Tag</b>\n",
    "<p>After saving and quitting the editor, nothing is displayed on the command line. So how do we know that a tag was actually added to the project? If you type out just <b>git tag</b>, it will display all tags that are in the repository.</p>"
   ]
  },
  {
   "cell_type": "code",
   "execution_count": null,
   "metadata": {},
   "outputs": [],
   "source": [
    "print(\"The Terminal application showing the output of the git tag command. The tag v1.0 is listed\")\n",
    "from IPython.display import Image\n",
    "Image(filename='Images/git tag ().png') \n"
   ]
  },
  {
   "cell_type": "markdown",
   "metadata": {},
   "source": [
    "<b>Git Log's --decorate Flag</b>\n",
    "<p>As you've learned, <b>git log</b> is a pretty powerful tool for letting us check out a repository's commits. We've already looked at a couple of its flags, but it's time to add a new one to our toolbelt. The <b>--decorate</b> flag will show us some details that are hidden from the default view.</p>\n",
    "<p>In the 2.13 update to Git, the <b>log</b> command has changed to automatically enable the <b>--decorate</b> flag. This means that you do not need to include the <b>--decorate</b> flag in your command, since it is automatically included, anyway! So the following commands result in the exact same output:</p>\n",
    "\n",
    "<b> &#160;&#160;&#160;&#160;&#160;&#160;&#160;&#160;&#160;&#160;&#160;&#160;&#160;&#160;&#160;&#160;&#160;&#160;&#160;&#160;&#160;&#160;&#160;&#160;&#160;&#160;&#160;&#160;&#160;&#160;&#160;&#160;&#160;&#160;&#160;&#160;&#160;&#160;&#160;&#160;&#160;&#160;&#160;&#160;&#160;&#160;&#160;&#160;&#160;&#160;&#160;&#160;&#160;&#160;&#160;&#160; git log --decorate</b>\n",
    "\n",
    "<b> &#160;&#160;&#160;&#160;&#160;&#160;&#160;&#160;&#160;&#160;&#160;&#160;&#160;&#160;&#160;&#160;&#160;&#160;&#160;&#160;&#160;&#160;&#160;&#160;&#160;&#160;&#160;&#160;&#160;&#160;&#160;&#160;&#160;&#160;&#160;&#160;&#160;&#160;&#160;&#160;&#160;&#160;&#160;&#160;&#160;&#160;&#160;&#160;&#160;&#160;&#160;&#160;&#160;&#160;&#160;&#160; git log </b>"
   ]
  },
  {
   "cell_type": "markdown",
   "metadata": {},
   "source": [
    "<b>Deleting A Tag </b>\n",
    "\n",
    "<p>What if you accidentally misspelled something in the tag's message, or mistyped the actual tag name (<b>v0</b> instead of <b>v1</b>). How could you fix this? The easiest way is just to delete the tag and make a new one.\n",
    "\n",
    "A Git tag can be deleted with the <b>-d</b> flag (for delete!) and the name of the tag:</p>\n",
    "\n",
    "<b> &#160;&#160;&#160;&#160;&#160;&#160;&#160;&#160;&#160;&#160;&#160;&#160;&#160;&#160;&#160;&#160;&#160;&#160;&#160;&#160;&#160;&#160;&#160;&#160;&#160;&#160;&#160;&#160;&#160;&#160;&#160;&#160;&#160;&#160;&#160;&#160;&#160;&#160;&#160;&#160;&#160;&#160;&#160;&#160;&#160;&#160;&#160;&#160;&#160;&#160;&#160;&#160;&#160;&#160;&#160;&#160; git tag -d v1 </b>"
   ]
  },
  {
   "cell_type": "code",
   "execution_count": 1,
   "metadata": {},
   "outputs": [
    {
     "name": "stdout",
     "output_type": "stream",
     "text": [
      "The Terminal application showing the removal of a tag by using the -d flag. The command that is run is git tag -d v1\n"
     ]
    },
    {
     "data": {
      "image/png": "[encoded data removed]",
      "text/plain": [
       "<IPython.core.display.Image object>"
      ]
     },
     "execution_count": 1,
     "metadata": {},
     "output_type": "execute_result"
    }
   ],
   "source": [
    "print(\"The Terminal application showing the removal of a tag by using the -d flag. The command that is run is git tag -d v1\")\n",
    "from IPython.display import Image\n",
    "Image(filename='Images/git tag (deleted).png') \n",
    "\n"
   ]
  },
  {
   "cell_type": "markdown",
   "metadata": {},
   "source": [
    "<b>Adding A Tag To A Past Commit</b>\n",
    "\n",
    "<p>Running <b>git tag -a v1</b> will tag the most recent commit. But what if you wanted to tag a commit that occurred farther back in the repo's history?\n",
    "\n",
    "All you have to do is provide the SHA of the commit you want to tag!</p>\n",
    "\n",
    "<b> &#160;&#160;&#160;&#160;&#160;&#160;&#160;&#160;&#160;&#160;&#160;&#160;&#160;&#160;&#160;&#160;&#160;&#160;&#160;&#160;&#160;&#160;&#160;&#160;&#160;&#160;&#160;&#160;&#160;&#160;&#160;&#160;&#160;&#160;&#160;&#160;&#160;&#160;&#160;&#160;&#160;&#160;&#160;&#160;&#160;&#160;&#160;&#160;&#160;&#160;&#160;&#160;&#160;&#160;&#160;&#160; git tag -a v1 a87984 </b>\n",
    "\n",
    "<p>(after popping open a code editor to let you supply the tag's message) this command will tag the commit with the SHA <b>a87084</b> with the tag <b>v1</b>. Using this technique, you can tag any commit in the entire git repository! Pretty neat, right?...and it's just a simple addition to add the SHA of a commit to the Git tagging command you already know.</b>"
   ]
  },
  {
   "cell_type": "markdown",
   "metadata": {},
   "source": [
    "<b>Git tag command will:</b>\n",
    "\n",
    "<ul>\n",
    "    <li>add a tag to the most recent commit</li>\n",
    "    <li>add a tag to a specific commit if a SHA is passed</li>\n",
    "</ul>\n",
    "\n",
    "<b>Further Research</b>\n",
    "<ul>\n",
    "    <li><a href = https://git-scm.com/book/en/v2/Git-Basics-TaggingGit Basics - Tagging</a> from the Git Book</li>\n",
    "    <li><a href = \"https://git-scm.com/docs/git-tag\">Git Tag</a> from the Git Docs</li>\n",
    "</ul>\n"
   ]
  }
 ],
 "metadata": {
  "interpreter": {
   "hash": "dff8d2130afc4a010ccd87b2395c14455b8c5e889abaef774bfd87688d0898e0"
  },
  "kernelspec": {
   "display_name": "Python 3.9.7 ('base')",
   "language": "python",
   "name": "python3"
  },
  "language_info": {
   "codemirror_mode": {
    "name": "ipython",
    "version": 3
   },
   "file_extension": ".py",
   "mimetype": "text/x-python",
   "name": "python",
   "nbconvert_exporter": "python",
   "pygments_lexer": "ipython3",
   "version": "3.9.7"
  },
  "orig_nbformat": 4
 },
 "nbformat": 4,
 "nbformat_minor": 2
}
