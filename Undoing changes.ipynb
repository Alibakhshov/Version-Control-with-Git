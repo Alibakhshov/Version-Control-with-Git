{
 "cells": [
  {
   "cell_type": "markdown",
   "metadata": {},
   "source": [
    "print(\"The Terminal application showing the output of a merge that resulted in a merge conflict. The word 'CONFLICT' appears and says that the conflict occurred in the index.html file.\")\n",
    "from IPython.display import Image\n",
    "Image(filename='Images/git merge.png') "
   ]
  },
  {
   "cell_type": "markdown",
   "metadata": {},
   "source": [
    "<b>Changing The Last Commit</b>\n",
    "<p>You've already made plenty of commits with the <b>git commit</b> command. Now with the <b>--amend</b> flag, you can alter the most-recent commit.</p>\n",
    "\n",
    "<b> &#160;&#160;&#160;&#160;&#160;&#160;&#160;&#160;&#160;&#160;&#160;&#160;&#160;&#160;&#160;&#160;&#160;&#160;&#160;&#160;&#160;&#160;&#160;&#160;&#160;&#160;&#160;&#160;&#160;&#160;&#160;&#160;&#160;&#160;&#160;&#160;&#160;&#160;&#160;&#160;&#160;&#160;&#160;&#160;&#160;&#160;&#160;&#160;&#160;&#160;&#160;&#160;&#160;&#160;&#160;&#160; git commit --amend</b>\n",
    "\n",
    "<p>If your Working Directory is clean (meaning there aren't any uncommitted changes in the repository), then running <b>git commit --amend</b> will let you provide a new commit message. Your code editor will open up and display the original commit message. Just fix a misspelling or completely reword it! Then save it and close the editor to lock in the new commit message.</p>"
   ]
  }
 ],
 "metadata": {
  "language_info": {
   "name": "python"
  },
  "orig_nbformat": 4
 },
 "nbformat": 4,
 "nbformat_minor": 2
}
